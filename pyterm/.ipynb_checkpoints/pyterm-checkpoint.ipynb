{
 "cells": [
  {
   "cell_type": "code",
   "execution_count": 7,
   "metadata": {},
   "outputs": [
    {
     "name": "stdout",
     "output_type": "stream",
     "text": [
      "Enter your commands below.\r\n",
      "Insert \"exit\" to leave the application.\n"
     ]
    },
    {
     "ename": "TypeError",
     "evalue": "Can't convert 'bytearray' object to str implicitly",
     "output_type": "error",
     "traceback": [
      "\u001b[0;31m---------------------------------------------------------------------------\u001b[0m",
      "\u001b[0;31mTypeError\u001b[0m                                 Traceback (most recent call last)",
      "\u001b[0;32m<ipython-input-7-b48d321371dc>\u001b[0m in \u001b[0;36m<module>\u001b[0;34m()\u001b[0m\n\u001b[1;32m     35\u001b[0m \u001b[0;34m\u001b[0m\u001b[0m\n\u001b[1;32m     36\u001b[0m         \u001b[0;32mif\u001b[0m \u001b[0mout\u001b[0m \u001b[0;34m!=\u001b[0m \u001b[0mbytearray\u001b[0m\u001b[0;34m(\u001b[0m\u001b[0;34m''\u001b[0m\u001b[0;34m,\u001b[0m\u001b[0;34m'ascii'\u001b[0m\u001b[0;34m)\u001b[0m\u001b[0;34m:\u001b[0m\u001b[0;34m\u001b[0m\u001b[0m\n\u001b[0;32m---> 37\u001b[0;31m             \u001b[0mprint\u001b[0m\u001b[0;34m(\u001b[0m\u001b[0;34m\">>\"\u001b[0m \u001b[0;34m+\u001b[0m \u001b[0mout\u001b[0m\u001b[0;34m)\u001b[0m\u001b[0;34m\u001b[0m\u001b[0m\n\u001b[0m",
      "\u001b[0;31mTypeError\u001b[0m: Can't convert 'bytearray' object to str implicitly"
     ]
    }
   ],
   "source": [
    "import time\n",
    "import serial\n",
    "\n",
    "# configure the serial connections (the parameters differs on the device you are connecting to)\n",
    "ser = serial.Serial(\n",
    "    port='/dev/ttyACM0',\n",
    "    baudrate=9600,\n",
    "    parity=serial.PARITY_ODD,\n",
    "    stopbits=serial.STOPBITS_TWO,\n",
    "    bytesize=serial.SEVENBITS\n",
    ")\n",
    "\n",
    "ser.isOpen()\n",
    "\n",
    "print('Enter your commands below.\\r\\nInsert \"exit\" to leave the application.')\n",
    "\n",
    "input1=1\n",
    "while 1 :\n",
    "    # get keyboard input\n",
    "    #input = raw_input(\">> \")\n",
    "        # Python 3 users\n",
    "    input1 = input(\">> \")\n",
    "    if input1 == 'exit':\n",
    "        ser.close()\n",
    "        exit()\n",
    "    else:\n",
    "        # send the character to the device\n",
    "        # (note that I happend a \\r\\n carriage return and line feed to the characters - this is requested by my device)\n",
    "        ser.write(bytearray(input1 + '\\r\\n','ascii'))\n",
    "        out = bytearray('','ascii')\n",
    "        # let's wait one second before reading output (let's give device time to answer)\n",
    "        time.sleep(1)\n",
    "        while ser.inWaiting() > 0:\n",
    "            out += ser.read(1)\n",
    "\n",
    "        if out != bytearray('','ascii'):\n",
    "            print(\">>\" + out.decode('ascii'))"
   ]
  },
  {
   "cell_type": "code",
   "execution_count": null,
   "metadata": {},
   "outputs": [],
   "source": []
  }
 ],
 "metadata": {
  "kernelspec": {
   "display_name": "Python [default]",
   "language": "python",
   "name": "python3"
  },
  "language_info": {
   "codemirror_mode": {
    "name": "ipython",
    "version": 3
   },
   "file_extension": ".py",
   "mimetype": "text/x-python",
   "name": "python",
   "nbconvert_exporter": "python",
   "pygments_lexer": "ipython3",
   "version": "3.5.2"
  }
 },
 "nbformat": 4,
 "nbformat_minor": 0
}
